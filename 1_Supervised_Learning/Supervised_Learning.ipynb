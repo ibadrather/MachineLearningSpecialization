{
 "cells": [
  {
   "cell_type": "markdown",
   "metadata": {},
   "source": [
    "## This notebook wil contain notes and good practices as advised by Andrew Ng during the course"
   ]
  },
  {
   "cell_type": "markdown",
   "metadata": {},
   "source": [
    "### Week 1"
   ]
  },
  {
   "cell_type": "markdown",
   "metadata": {},
   "source": [
    "#### **Supervised Learning**\n",
    "\n",
    "The two major types of **supervised learning** our regression and classification. \n",
    "\n",
    "1. In a **regression** application like predicting prices of houses, the learning algorithm has to predict numbers from infinitely many possible output numbers. \n",
    "\n",
    "2. Whereas in **classification** the learning algorithm has to make a prediction of a category, all of a small set of possible outputs. \n",
    "\n",
    "#### **Un-supervised Learning**\n",
    "\n",
    "We call it unsupervised because we're not trying to supervise the algorithm (There are no labels). To give some quote right answer for every input, instead, we asked the our room to figure out all by yourself what's interesting. Or what patterns or structures that might be in this data, with this particular data set. \n",
    "\n",
    "An unsupervised learning algorithm, might decide that the data can be assigned to two different groups or two different clusters. And so it might decide, that there's one cluster what group over here, and there's another cluster or group over here. This is a particular type of unsupervised learning, called a clustering algorithm. Because it places the unlabeled data, into different clusters and this turns out to be used in many applications. \n",
    "\n",
    "For example, clustering is used in google news, what google news does is every day it goes. And looks at hundreds of thousands of news articles on the internet, and groups related stories together.\n",
    "\n",
    "**Types of Unsupervised Learning:**\n",
    "1. Clustering\n",
    "2. Anomaly Detection\n",
    "3. Feature Reduction"
   ]
  },
  {
   "cell_type": "markdown",
   "metadata": {},
   "source": []
  }
 ],
 "metadata": {
  "language_info": {
   "name": "python"
  },
  "orig_nbformat": 4
 },
 "nbformat": 4,
 "nbformat_minor": 2
}
