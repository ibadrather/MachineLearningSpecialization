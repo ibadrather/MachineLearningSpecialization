{
 "cells": [
  {
   "cell_type": "markdown",
   "metadata": {},
   "source": [
    "# Multiple Linear Regression"
   ]
  },
  {
   "cell_type": "markdown",
   "metadata": {},
   "source": [
    "## Multiple features\n",
    "\n",
    "Instead of one we will have multiple features.\n",
    "\n",
    "<img src=\"images/mf1.png\" style=\"width:700px;height:340px;\">\n",
    "\n",
    "Now, the model will be:\n",
    "\n",
    "<img src=\"images/mf3.png\" style=\"width:700px;height:340px;\">\n",
    "\n",
    "\n",
    "<img src=\"images/mf4.png\" style=\"width:700px;height:340px;\">\n",
    "\n",
    "This is called multiple linear regression not multivaroate linear regression. That is something different.\n"
   ]
  },
  {
   "cell_type": "markdown",
   "metadata": {},
   "source": [
    "## Vectorization"
   ]
  },
  {
   "cell_type": "markdown",
   "metadata": {},
   "source": [
    "<img src=\"images/v1.png\" style=\"width:1000px;height:400px;\">\n",
    "\n",
    "What is the computer doing behind the scenes to make this computation faster.\n",
    "\n",
    "<img src=\"images/v2.png\" style=\"width:1000px;height:400px;\">\n",
    "\n",
    "<img src=\"images/v3.png\" style=\"width:1000px;height:400px;\">"
   ]
  },
  {
   "cell_type": "markdown",
   "metadata": {},
   "source": [
    "## Gradient descent for multiple linear regression"
   ]
  },
  {
   "cell_type": "markdown",
   "metadata": {},
   "source": [
    "<img src=\"images/gd1.png\" style=\"width:700px;height:300px;\">\n",
    "\n",
    "<img src=\"images/gd2.png\" style=\"width:700px;height:300px;\">\n",
    "\n",
    "Alternative:\n",
    "\n",
    "<img src=\"images/gd3.png\" style=\"width:700px;height:300px;\">\n",
    "\n"
   ]
  },
  {
   "cell_type": "markdown",
   "metadata": {},
   "source": [
    "# Gradient descent in practice"
   ]
  },
  {
   "cell_type": "markdown",
   "metadata": {},
   "source": [
    "## Feature scaling"
   ]
  },
  {
   "cell_type": "markdown",
   "metadata": {},
   "source": []
  }
 ],
 "metadata": {
  "kernelspec": {
   "display_name": "Python 3.10.4 ('deeply')",
   "language": "python",
   "name": "python3"
  },
  "language_info": {
   "name": "python",
   "version": "3.10.4"
  },
  "orig_nbformat": 4,
  "vscode": {
   "interpreter": {
    "hash": "8ba283c99aab3f9826c9057a6b77e5ed1375b1012fccd26237ed2bb4d681a306"
   }
  }
 },
 "nbformat": 4,
 "nbformat_minor": 2
}
